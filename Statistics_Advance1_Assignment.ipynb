{
  "nbformat": 4,
  "nbformat_minor": 0,
  "metadata": {
    "colab": {
      "provenance": []
    },
    "kernelspec": {
      "name": "python3",
      "display_name": "Python 3"
    },
    "language_info": {
      "name": "python"
    }
  },
  "cells": [
    {
      "cell_type": "markdown",
      "source": [
        "#Statistics Advanced - 1| Assignment\n"
      ],
      "metadata": {
        "id": "RpPuTy89xttK"
      }
    },
    {
      "cell_type": "markdown",
      "source": [
        "**Question 1: What is a random variable in probability theory?**\n"
      ],
      "metadata": {
        "id": "hPxD781mx4pu"
      }
    },
    {
      "cell_type": "markdown",
      "source": [
        "**Ans:-**In **probability theory**, a **random variable** is a variable that represents the outcome of a **random phenomenon**. It assigns a **numerical value** to each outcome in a sample space.\n",
        "\n",
        "There are two main types of random variables:\n",
        "\n",
        "1. **Discrete random variable**:\n",
        "\n",
        "   * Takes on a **countable** number of distinct values (e.g., number of heads in 3 coin flips).\n",
        "   * Example: $X =$ number on a rolled six-sided die.\n",
        "     Possible values: $X \\in \\{1, 2, 3, 4, 5, 6\\}$\n",
        "\n",
        "2. **Continuous random variable**:\n",
        "\n",
        "   * Takes on an **uncountable** range of values, usually within an interval (e.g., time, height).\n",
        "   * Example: $Y =$ time it takes for a computer to boot up.\n",
        "     Possible values: $Y \\in [0, \\infty)$\n",
        "\n",
        "### Key Points:\n",
        "\n",
        "* A random variable is a **function** from the sample space to the real numbers.\n",
        "* It allows us to quantify outcomes and apply mathematical tools like **expectation**, **variance**, and **probability distributions**.\n"
      ],
      "metadata": {
        "id": "GB6FPWu4x_vm"
      }
    },
    {
      "cell_type": "markdown",
      "source": [
        "**Question 2: What are the types of random variables?**"
      ],
      "metadata": {
        "id": "sMUVIKNQyQ23"
      }
    },
    {
      "cell_type": "markdown",
      "source": [
        "**Ans:-**Random variables are typically categorized into **two main types**:\n",
        "\n",
        "---\n",
        "\n",
        "### 1. **Discrete Random Variable**\n",
        "\n",
        "* **Definition**: A random variable that can take on **a countable number of distinct values**.\n",
        "* **Examples**:\n",
        "\n",
        "  * Number of students in a class\n",
        "  * Rolling a die (outcomes: 1, 2, 3, 4, 5, 6)\n",
        "  * Number of cars passing a toll booth in an hour\n",
        "\n",
        "---\n",
        "\n",
        "### 2. **Continuous Random Variable**\n",
        "\n",
        "* **Definition**: A random variable that can take on **any value within a given range or interval**, including decimals and fractions — essentially **uncountably infinite values**.\n",
        "* **Examples**:\n",
        "\n",
        "  * Height of a person\n",
        "  * Time taken to run a marathon\n",
        "  * Temperature on a given day\n",
        "\n",
        "---\n",
        "\n",
        "### Summary Table:\n",
        "\n",
        "| Type           | Values It Can Take     | Example                          |\n",
        "| -------------- | ---------------------- | -------------------------------- |\n",
        "| **Discrete**   | Countable              | Number of heads in 3 coin tosses |\n",
        "| **Continuous** | Uncountable (infinite) | Weight of an apple in kg         |\n",
        "\n"
      ],
      "metadata": {
        "id": "KpdDAqmGyXp-"
      }
    },
    {
      "cell_type": "markdown",
      "source": [
        "**Question 3: Explain the difference between discrete and continuous distributions**"
      ],
      "metadata": {
        "id": "hcBfs6FVykVb"
      }
    },
    {
      "cell_type": "markdown",
      "source": [
        "**Ans:-**The difference between **discrete** and **continuous** distributions lies in the type of data they describe:\n",
        "\n",
        "---\n",
        "\n",
        "### **1. Discrete Distributions:**\n",
        "\n",
        "* Deal with **countable** outcomes.\n",
        "* The values are **distinct and separate** — there are gaps between possible values.\n",
        "* You can **list** all possible outcomes.\n",
        "\n",
        "#### Examples:\n",
        "\n",
        "* Number of students in a class (you can't have 22.5 students).\n",
        "* Rolling a die (possible outcomes: 1, 2, 3, 4, 5, 6).\n",
        "* Number of phone calls received in an hour.\n",
        "\n",
        "#### Common Discrete Distributions:\n",
        "\n",
        "* **Binomial distribution**\n",
        "* **Poisson distribution**\n",
        "* **Geometric distribution**\n",
        "\n",
        "---\n",
        "\n",
        "### **2. Continuous Distributions:**\n",
        "\n",
        "* Deal with **uncountable** outcomes within a range.\n",
        "* The values form a **continuum** — any number within an interval is possible.\n",
        "* You **cannot list** all possible outcomes because there are infinitely many.\n",
        "\n",
        "#### Examples:\n",
        "\n",
        "* Height of people (e.g., 172.3 cm).\n",
        "* Time taken to run a race (e.g., 9.58 seconds).\n",
        "* Temperature at noon.\n",
        "\n",
        "#### Common Continuous Distributions:\n",
        "\n",
        "* **Normal distribution**\n",
        "* **Exponential distribution**\n",
        "* **Uniform distribution (continuous version)**\n",
        "\n",
        "---\n",
        "\n",
        "### Key Difference:\n",
        "\n",
        "* **Discrete** = specific values only (countable)\n",
        "* **Continuous** = any value within an interval (uncountable)\n",
        "\n"
      ],
      "metadata": {
        "id": "Kw14p6tVynQg"
      }
    },
    {
      "cell_type": "markdown",
      "source": [
        "**Question 4: What is a binomial distribution, and how is it used in probability?**"
      ],
      "metadata": {
        "id": "pt9oHlX1y3VG"
      }
    },
    {
      "cell_type": "markdown",
      "source": [
        "**Ans:-**A **binomial distribution** is a type of **discrete probability distribution** that models the number of **successes** in a fixed number of **independent** trials, where each trial has only **two possible outcomes**: success or failure.\n",
        "\n",
        "### Key Characteristics:\n",
        "\n",
        "To use a binomial distribution, the following conditions must be met:\n",
        "\n",
        "1. **Fixed number of trials (n)** – The experiment is repeated a set number of times.\n",
        "2. **Only two outcomes** – Each trial results in a success or a failure.\n",
        "3. **Constant probability (p)** – The probability of success is the same in every trial.\n",
        "4. **Independent trials** – The outcome of one trial does not affect the others.\n",
        "\n",
        "---\n",
        "\n",
        "### Probability Formula:\n",
        "\n",
        "The probability of getting exactly **k successes** in **n trials** is given by the formula:\n",
        "\n",
        "$$\n",
        "P(X = k) = \\binom{n}{k} p^k (1 - p)^{n - k}\n",
        "$$\n",
        "\n",
        "Where:\n",
        "\n",
        "* $\\binom{n}{k}$ is the **binomial coefficient**, or \"n choose k\"\n",
        "* $p$ is the probability of success\n",
        "* $1 - p$ is the probability of failure\n",
        "* $k$ is the number of successes\n",
        "\n",
        "---\n",
        "\n",
        "### Example:\n",
        "\n",
        "Suppose you flip a fair coin 5 times. What’s the probability of getting exactly 3 heads?\n",
        "\n",
        "* $n = 5$, $k = 3$, $p = 0.5$\n",
        "\n",
        "$$\n",
        "P(X = 3) = \\binom{5}{3} (0.5)^3 (0.5)^2 = 10 \\times 0.125 \\times 0.25 = 0.3125\n",
        "$$\n",
        "\n",
        "---\n",
        "\n",
        "### Uses in Probability:\n",
        "\n",
        "The binomial distribution is used in situations like:\n",
        "\n",
        "* Quality control (e.g., defective vs. non-defective items)\n",
        "* Survey results (e.g., yes/no responses)\n",
        "* Medical trials (e.g., patient responds or does not respond to treatment)\n",
        "\n",
        "It helps in calculating **probabilities**, **expected outcomes**, and **variability** in these binary-outcome scenarios.\n",
        "\n"
      ],
      "metadata": {
        "id": "b5cc1npXy9MK"
      }
    },
    {
      "cell_type": "markdown",
      "source": [
        "**Question 5: What is the standard normal distribution, and why is it important?**"
      ],
      "metadata": {
        "id": "5Jqrkrb2zH-3"
      }
    },
    {
      "cell_type": "markdown",
      "source": [
        "**Ans:-**The **standard normal distribution** is a specific type of **normal distribution** that has the following properties:\n",
        "\n",
        "* **Mean (μ) = 0**\n",
        "* **Standard deviation (σ) = 1**\n",
        "\n",
        "It is a **bell-shaped, symmetric** distribution centered at 0. In notation, a random variable $Z$ that follows a standard normal distribution is written as:\n",
        "\n",
        "$$\n",
        "Z \\sim \\mathcal{N}(0, 1)\n",
        "$$\n",
        "\n",
        "---\n",
        "\n",
        "### Why is the Standard Normal Distribution Important?\n",
        "\n",
        "1. **Basis for Statistical Inference**:\n",
        "\n",
        "   * Many statistical tests (like z-tests) rely on the standard normal distribution to determine probabilities and critical values.\n",
        "\n",
        "2. **Simplifies Calculations**:\n",
        "\n",
        "   * Any normal distribution $N(\\mu, \\sigma^2)$ can be **standardized** into a standard normal distribution using:\n",
        "\n",
        "     $$\n",
        "     Z = \\frac{X - \\mu}{\\sigma}\n",
        "     $$\n",
        "\n",
        "     This makes it easier to compute probabilities using standard Z-tables.\n",
        "\n",
        "3. **Foundation for Confidence Intervals & Hypothesis Testing**:\n",
        "\n",
        "   * The standard normal distribution is used to calculate confidence intervals and p-values, especially when the population standard deviation is known.\n",
        "\n",
        "4. **Widely Used in Real Life**:\n",
        "\n",
        "   * Many real-world phenomena (like test scores, heights, and measurement errors) approximate a normal distribution, making the standard normal a practical model for analysis.\n",
        "\n",
        "---\n",
        "\n",
        "### Summary:\n",
        "\n",
        "The standard normal distribution is a core concept in statistics. It allows for standardized comparison, facilitates probability calculations, and underpins many statistical procedures and models.\n"
      ],
      "metadata": {
        "id": "MYWvFGqUzN73"
      }
    },
    {
      "cell_type": "markdown",
      "source": [
        "**Question 6: What is the Central Limit Theorem (CLT), and why is it critical in statistics?**"
      ],
      "metadata": {
        "id": "ItOzAde5zZpL"
      }
    },
    {
      "cell_type": "markdown",
      "source": [
        "**Ans:-****Question 6: What is the Central Limit Theorem (CLT), and why is it critical in statistics?**\n",
        "\n",
        "**Answer:**\n",
        "\n",
        "The **Central Limit Theorem (CLT)** is a fundamental statistical principle that states:\n",
        "\n",
        "> *Regardless of the population's distribution, the sampling distribution of the sample mean will approximate a normal distribution as the sample size becomes large (typically n ≥ 30), provided the samples are independent and identically distributed.*\n",
        "\n",
        "---\n",
        "\n",
        "### **Key Points:**\n",
        "\n",
        "1. **Applies to Sample Means (or Sums):**\n",
        "\n",
        "   * The CLT applies to the *distribution of sample means*, not individual data points.\n",
        "\n",
        "2. **Normal Approximation:**\n",
        "\n",
        "   * Even if the original population is skewed or non-normal, the distribution of the sample mean will be approximately **normal** for large sample sizes.\n",
        "\n",
        "3. **Sample Size Matters:**\n",
        "\n",
        "   * The larger the sample size, the closer the sample mean distribution is to normal.\n",
        "\n",
        "4. **Same Mean, Smaller Variance:**\n",
        "\n",
        "   * The mean of the sampling distribution equals the population mean (μ).\n",
        "   * The standard deviation of the sampling distribution (called the **standard error**) is:\n",
        "\n",
        "     $$\n",
        "     \\text{SE} = \\frac{\\sigma}{\\sqrt{n}}\n",
        "     $$\n",
        "\n",
        "     where σ is the population standard deviation, and n is the sample size.\n",
        "\n",
        "---\n",
        "\n",
        "### **Why is the CLT Critical in Statistics?**\n",
        "\n",
        "* **Justifies Use of Normal Distribution:**\n",
        "\n",
        "  * It allows statisticians to use **normal-based methods** (e.g., confidence intervals, hypothesis tests) even when data isn’t normally distributed.\n",
        "\n",
        "* **Enables Inference:**\n",
        "\n",
        "  * It underpins many inferential statistics techniques, including z-tests and t-tests.\n",
        "\n",
        "* **Practical Decision-Making:**\n",
        "\n",
        "  * It helps in making predictions and decisions using sample data when the full population data is unavailable.\n",
        "\n",
        "---\n",
        "\n",
        "### **Example:**\n",
        "\n",
        "Suppose you're measuring the average weight of apples from a large orchard. The individual weights may not be normally distributed (some very large or small), but if you take repeated random samples of, say, 40 apples and compute their average weight, the distribution of those averages will be approximately **normal**.\n",
        "\n"
      ],
      "metadata": {
        "id": "DER3pBxRzeWy"
      }
    },
    {
      "cell_type": "markdown",
      "source": [
        "**Question 7: What is the significance of confidence intervals in statistical analysis?**"
      ],
      "metadata": {
        "id": "xQy4CiTIzp_F"
      }
    },
    {
      "cell_type": "markdown",
      "source": [
        "**Ans:-****Confidence intervals** are essential in statistical analysis because they provide a **range of values** that is likely to contain the **true population parameter** (such as a mean or proportion) with a certain level of **confidence**, usually 95% or 99%.\n",
        "\n",
        "### Key Significance of Confidence Intervals:\n",
        "\n",
        "1. **Estimate Precision**:\n",
        "\n",
        "   * Confidence intervals give not just a point estimate (like a sample mean) but also an indication of the **precision and reliability** of that estimate.\n",
        "   * A **narrower interval** suggests more precision, while a **wider interval** indicates less certainty.\n",
        "\n",
        "2. **Measure of Uncertainty**:\n",
        "\n",
        "   * Instead of claiming one fixed value, a confidence interval acknowledges the **uncertainty inherent in sampling**, helping to avoid overconfidence in results.\n",
        "\n",
        "3. **Basis for Decision-Making**:\n",
        "\n",
        "   * They are used to **assess statistical significance**. For example, if a confidence interval for a difference between two means does **not include zero**, it suggests a statistically significant difference.\n",
        "\n",
        "4. **Generalization to Population**:\n",
        "\n",
        "   * Confidence intervals allow researchers to **infer results from a sample to a larger population**, supporting broader conclusions.\n",
        "\n",
        "5. **Comparison Tool**:\n",
        "\n",
        "   * They help compare groups or treatments in experiments. Overlapping or non-overlapping intervals can guide interpretations of **effect size** and **differences**.\n",
        "\n",
        "### Example:\n",
        "\n",
        "If a 95% confidence interval for the mean blood pressure reduction from a drug is \\[5.2, 8.4] mmHg, it means we are 95% confident that the **true mean reduction** in the population lies between 5.2 and 8.4 mmHg.\n",
        "\n",
        "In summary, confidence intervals are a **fundamental tool** in statistics that convey the **accuracy and reliability** of estimates, supporting both analysis and informed decision-making.\n"
      ],
      "metadata": {
        "id": "gI3aeEM9zw19"
      }
    },
    {
      "cell_type": "markdown",
      "source": [
        "**Question 8: What is the concept of expected value in a probability distribution?**"
      ],
      "metadata": {
        "id": "fxTCTuJpz6Vt"
      }
    },
    {
      "cell_type": "markdown",
      "source": [
        "**Ans:-****Expected value** in a probability distribution is a fundamental concept in probability and statistics. It represents the **average or mean outcome** you would expect if you repeated a random experiment many times.\n",
        "\n",
        "### Definition:\n",
        "\n",
        "The **expected value (EV)** of a discrete random variable is calculated by taking the **sum of all possible values** the variable can take, **each multiplied by its probability**.\n",
        "\n",
        "### Formula (Discrete Case):\n",
        "\n",
        "$$\n",
        "E(X) = \\sum [x_i \\cdot P(x_i)]\n",
        "$$\n",
        "\n",
        "Where:\n",
        "\n",
        "* $E(X)$ is the expected value of random variable $X$,\n",
        "* $x_i$ are the possible outcomes,\n",
        "* $P(x_i)$ is the probability of outcome $x_i$.\n",
        "\n",
        "---\n",
        "\n",
        "### Example:\n",
        "\n",
        "Suppose you roll a fair 6-sided die. The possible outcomes are 1 through 6, each with a probability of $\\frac{1}{6}$.\n",
        "\n",
        "$$\n",
        "E(X) = 1 \\cdot \\frac{1}{6} + 2 \\cdot \\frac{1}{6} + 3 \\cdot \\frac{1}{6} + 4 \\cdot \\frac{1}{6} + 5 \\cdot \\frac{1}{6} + 6 \\cdot \\frac{1}{6}\n",
        "$$\n",
        "\n",
        "$$\n",
        "E(X) = \\frac{1+2+3+4+5+6}{6} = \\frac{21}{6} = 3.5\n",
        "$$\n",
        "\n",
        "So, the **expected value is 3.5**, which means that if you roll the die many times, the **average** of your results will approach 3.5.\n",
        "\n",
        "---\n",
        "\n",
        "### Key Points:\n",
        "\n",
        "* Expected value is a **weighted average** of all possible outcomes.\n",
        "* It doesn't have to be a value that the variable can actually take (e.g., 3.5 in a die roll).\n",
        "* It is used in decision-making, risk analysis, economics, and more.\n"
      ],
      "metadata": {
        "id": "-ua28BMA0BTq"
      }
    },
    {
      "cell_type": "markdown",
      "source": [
        "**Question 9: Write a Python program to generate 1000 random numbers from a normal\n",
        "distribution with mean = 50 and standard deviation = 5. Compute its mean and standard\n",
        "deviation using NumPy, and draw a histogram to visualize the distribution.**"
      ],
      "metadata": {
        "id": "m8N80XSt0NBt"
      }
    },
    {
      "cell_type": "code",
      "source": [
        "#Ans:-\n",
        "import numpy as np\n",
        "import matplotlib.pyplot as plt\n",
        "\n",
        "# Step 1: Generate 1000 random numbers from a normal distribution\n",
        "mean = 50\n",
        "std_dev = 5\n",
        "sample_size = 1000\n",
        "\n",
        "data = np.random.normal(loc=mean, scale=std_dev, size=sample_size)\n",
        "\n",
        "# Step 2: Compute the mean and standard deviation\n",
        "calculated_mean = np.mean(data)\n",
        "calculated_std = np.std(data)\n",
        "\n",
        "print(f\"Calculated Mean: {calculated_mean:.2f}\")\n",
        "print(f\"Calculated Standard Deviation: {calculated_std:.2f}\")\n",
        "\n",
        "# Step 3: Plot a histogram\n",
        "plt.hist(data, bins=30, edgecolor='black', color='skyblue')\n",
        "plt.title('Histogram of Normally Distributed Data')\n",
        "plt.xlabel('Value')\n",
        "plt.ylabel('Frequency')\n",
        "plt.grid(True)\n",
        "plt.show()\n"
      ],
      "metadata": {
        "colab": {
          "base_uri": "https://localhost:8080/",
          "height": 507
        },
        "id": "DRZsWMJAxvkS",
        "outputId": "c1bfb610-4cda-4e9e-95ff-74903db1286e"
      },
      "execution_count": 1,
      "outputs": [
        {
          "output_type": "stream",
          "name": "stdout",
          "text": [
            "Calculated Mean: 50.10\n",
            "Calculated Standard Deviation: 5.23\n"
          ]
        },
        {
          "output_type": "display_data",
          "data": {
            "text/plain": [
              "<Figure size 640x480 with 1 Axes>"
            ],
            "image/png": "[encoded data removed]"
          },
          "metadata": {}
        }
      ]
    },
    {
      "cell_type": "markdown",
      "source": [
        "**Question 10: You are working as a data analyst for a retail company. The company has\n",
        "collected daily sales data for 2 years and wants you to identify the overall sales trend.\n",
        "daily_sales = [220, 245, 210, 265, 230, 250, 260, 275, 240, 255,\n",
        "235, 260, 245, 250, 225, 270, 265, 255, 250, 260]\n",
        "● Explain how you would apply the Central Limit Theorem to estimate the average sales\n",
        "with a 95% confidence interval.\n",
        "● Write the Python code to compute the mean sales and its confidence interval.**"
      ],
      "metadata": {
        "id": "oTDYKo9K0kQh"
      }
    },
    {
      "cell_type": "code",
      "source": [
        "#Ans:-\n",
        "import numpy as np\n",
        "import scipy.stats as stats\n",
        "\n",
        "# Sales data\n",
        "daily_sales = [220, 245, 210, 265, 230, 250, 260, 275, 240, 255,\n",
        "               235, 260, 245, 250, 225, 270, 265, 255, 250, 260]\n",
        "\n",
        "# Sample statistics\n",
        "mean_sales = np.mean(daily_sales)\n",
        "std_sales = np.std(daily_sales, ddof=1)  # Sample standard deviation\n",
        "n = len(daily_sales)\n",
        "\n",
        "# t critical value for 95% confidence\n",
        "confidence = 0.95\n",
        "alpha = 1 - confidence\n",
        "df = n - 1\n",
        "t_crit = stats.t.ppf(1 - alpha/2, df)\n",
        "\n",
        "# Margin of error\n",
        "margin_error = t_crit * (std_sales / np.sqrt(n))\n",
        "\n",
        "# Confidence interval\n",
        "lower_bound = mean_sales - margin_error\n",
        "upper_bound = mean_sales + margin_error\n",
        "\n",
        "# Output results\n",
        "print(f\"Sample Mean: {mean_sales:.2f}\")\n",
        "print(f\"95% Confidence Interval: ({lower_bound:.2f}, {upper_bound:.2f})\")\n"
      ],
      "metadata": {
        "colab": {
          "base_uri": "https://localhost:8080/"
        },
        "id": "7Nh4XDYC0qgV",
        "outputId": "b3ecbdb1-ac61-4ad6-873b-96d2b6fcaec6"
      },
      "execution_count": 2,
      "outputs": [
        {
          "output_type": "stream",
          "name": "stdout",
          "text": [
            "Sample Mean: 248.25\n",
            "95% Confidence Interval: (240.17, 256.33)\n"
          ]
        }
      ]
    }
  ]
}